{
  "cells": [
    {
      "cell_type": "markdown",
      "metadata": {
        "colab_type": "text",
        "id": "view-in-github"
      },
      "source": [
        "<a href=\"https://colab.research.google.com/github/zasboth/kaggle/blob/main/osy_utility.ipynb\" target=\"_parent\"><img src=\"https://colab.research.google.com/assets/colab-badge.svg\" alt=\"Open In Colab\"/></a>"
      ]
    },
    {
      "cell_type": "code",
      "execution_count": null,
      "metadata": {
        "_cell_guid": "81f0a1f3-7378-4586-b7f8-7b91c1246815",
        "_uuid": "81c48296-e051-442e-b8d1-1e69adba3b7d",
        "execution": {
          "iopub.execute_input": "2025-02-09T15:34:45.551666Z",
          "iopub.status.busy": "2025-02-09T15:34:45.551291Z",
          "iopub.status.idle": "2025-02-09T15:34:46.948557Z",
          "shell.execute_reply": "2025-02-09T15:34:46.947386Z",
          "shell.execute_reply.started": "2025-02-09T15:34:45.551637Z"
        },
        "id": "r0KUYiu8DOMw",
        "jupyter": {
          "outputs_hidden": false
        },
        "trusted": true
      },
      "outputs": [],
      "source": [
        "# %% [code]\n",
        "import pandas as pd\n",
        "import seaborn as sns\n",
        "import matplotlib.pyplot as plt\n",
        "#%matplotlib inline\n",
        "\n",
        "from typing import Callable, Any\n",
        "\n",
        "def conv_values(df: pd.DataFrame, except_cols: list, fn: Callable[[Any], Any]):\n",
        "    for col in df.columns:\n",
        "        if col not in except_cols:\n",
        "            if df[col].dtype in ['int64', 'float64']:\n",
        "                df[col] = df[col].apply(fn)\n",
        "\n",
        "\n",
        "def show_correlation(df: pd.DataFrame):\n",
        "  numeric_train = df.select_dtypes(include=[np.number])\n",
        "  correlation_matrix = numeric_train.corr()\n",
        "\n",
        "  # Display the correlation matrix\n",
        "  plt.figure(figsize=(12, 8))\n",
        "  sns.heatmap(correlation_matrix, annot=True, fmt=\".2f\", cmap='coolwarm', square=True, cbar_kws={\"shrink\": .8})\n",
        "  plt.title('Correlation Matrix')\n",
        "  plt.show()\n",
        "\n"
      ]
    }
  ],
  "metadata": {
    "colab": {
      "include_colab_link": true,
      "provenance": []
    },
    "kaggle": {
      "accelerator": "none",
      "dataSources": [],
      "dockerImageVersionId": 30886,
      "isGpuEnabled": false,
      "isInternetEnabled": true,
      "language": "python",
      "sourceType": "script"
    },
    "kernelspec": {
      "display_name": "Python 3",
      "language": "python",
      "name": "python3"
    },
    "language_info": {
      "codemirror_mode": {
        "name": "ipython",
        "version": 3
      },
      "file_extension": ".py",
      "mimetype": "text/x-python",
      "name": "python",
      "nbconvert_exporter": "python",
      "pygments_lexer": "ipython3",
      "version": "3.10.12"
    }
  },
  "nbformat": 4,
  "nbformat_minor": 0
}
